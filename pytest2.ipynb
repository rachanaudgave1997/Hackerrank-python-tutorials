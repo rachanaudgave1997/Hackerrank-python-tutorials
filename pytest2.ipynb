{
 "cells": [
  {
   "cell_type": "markdown",
   "metadata": {},
   "source": [
    "#Nested List"
   ]
  },
  {
   "cell_type": "code",
   "execution_count": null,
   "metadata": {},
   "outputs": [],
   "source": [
    "if __name__ == '__main__':\n",
    "    students = []\n",
    "    for _ in range(int(input())):\n",
    "        name = input()\n",
    "        score = float(input())\n",
    "        students.append([name, score])\n",
    "    \n",
    "    # Extract all the scores\n",
    "    scores = [student[1] for student in students]\n",
    "    \n",
    "    # Find the second lowest score\n",
    "    second_lowest_score = sorted(set(scores))[1]\n",
    "    \n",
    "    # Find all students with the second lowest score\n",
    "    second_lowest_students = [student[0] for student in students if student[1] == second_lowest_score]\n",
    "    \n",
    "    # Sort the names alphabetically\n",
    "    second_lowest_students.sort()\n",
    "    \n",
    "    # Print each name on a new line\n",
    "    for student in second_lowest_students:\n",
    "        print(student)"
   ]
  },
  {
   "cell_type": "markdown",
   "metadata": {},
   "source": [
    "#list-comprehensions"
   ]
  },
  {
   "cell_type": "code",
   "execution_count": null,
   "metadata": {},
   "outputs": [],
   "source": [
    "if __name__ == '__main__':\n",
    "    x = int(input())\n",
    "    y = int(input())\n",
    "    z = int(input())\n",
    "    n = int(input())\n",
    "    \n",
    "    # Using list comprehension to generate the list of output\n",
    "    output = [[i, j, k] for i in range(x + 1) for j in range(y + 1) for k in range(z + 1) if i + j + k != n]\n",
    "    \n",
    "    print(output)\n"
   ]
  },
  {
   "cell_type": "markdown",
   "metadata": {},
   "source": [
    "#find Runner-Up Score"
   ]
  },
  {
   "cell_type": "code",
   "execution_count": null,
   "metadata": {},
   "outputs": [],
   "source": [
    "if __name__ == '__main__':\n",
    "    n = int(input())\n",
    "    arr = list(map(int, input().split()))\n",
    "    \n",
    "    # Remove duplicates by converting the list to a set, then back to a list\n",
    "    unique_scores = list(set(arr))\n",
    "    \n",
    "    # Sort the list in descending order\n",
    "    unique_scores.sort(reverse=True)\n",
    "    \n",
    "    # The runner-up score is the second highest score\n",
    "    runner_up_score = unique_scores[1]\n",
    "    \n",
    "    print(runner_up_score)\n"
   ]
  },
  {
   "cell_type": "markdown",
   "metadata": {},
   "source": [
    "#Finding the Percentage"
   ]
  },
  {
   "cell_type": "code",
   "execution_count": null,
   "metadata": {},
   "outputs": [],
   "source": [
    "if __name__ == '__main__':\n",
    "    n = int(input())\n",
    "    student_marks = {}\n",
    "    for _ in range(n):\n",
    "        name, *line = input().split()\n",
    "        scores = list(map(float, line))\n",
    "        student_marks[name] = scores\n",
    "    query_name = input()\n",
    "    \n",
    "    # Calculate the average of the marks for the queried student\n",
    "    average_marks = sum(student_marks[query_name]) / len(student_marks[query_name])\n",
    "    \n",
    "    # Print the average marks rounded to 2 decimal places\n",
    "    print(f\"{average_marks:.2f}\")\n"
   ]
  },
  {
   "cell_type": "markdown",
   "metadata": {},
   "source": [
    "#python-lists"
   ]
  },
  {
   "cell_type": "code",
   "execution_count": null,
   "metadata": {},
   "outputs": [],
   "source": [
    "if __name__ == '__main__':\n",
    "    N = int(input())\n",
    "    lst = []\n",
    "    \n",
    "    for _ in range(N):\n",
    "        command = input().split()\n",
    "        if command[0] == \"insert\":\n",
    "            lst.insert(int(command[1]), int(command[2]))\n",
    "        elif command[0] == \"print\":\n",
    "            print(lst)\n",
    "        elif command[0] == \"remove\":\n",
    "            lst.remove(int(command[1]))\n",
    "        elif command[0] == \"append\":\n",
    "            lst.append(int(command[1]))\n",
    "        elif command[0] == \"sort\":\n",
    "            lst.sort()\n",
    "        elif command[0] == \"pop\":\n",
    "            lst.pop()\n",
    "        elif command[0] == \"reverse\":\n",
    "            lst.reverse()\n"
   ]
  },
  {
   "cell_type": "markdown",
   "metadata": {},
   "source": [
    "#python-Tuples"
   ]
  },
  {
   "cell_type": "code",
   "execution_count": 1,
   "metadata": {},
   "outputs": [],
   "source": [
    "if __name__ == '__main__':\n",
    "    n = int(input())\n",
    "    integer_list = map(int, input().split())\n",
    "    t = tuple(integer_list)\n",
    "    print(hash(t))"
   ]
  },
  {
   "cell_type": "markdown",
   "metadata": {},
   "source": [
    "#sets"
   ]
  },
  {
   "cell_type": "code",
   "execution_count": null,
   "metadata": {},
   "outputs": [],
   "source": [
    "def average(array):\n",
    "    # Convert the list to a set to remove duplicates\n",
    "    unique_elements = set(array)\n",
    "    # Calculate the average of the unique elements\n",
    "    avg = sum(unique_elements) / len(unique_elements)\n",
    "    return avg \n",
    "\n",
    "if __name__ == '__main__':\n",
    "    n = int(input())\n",
    "    arr = list(map(int, input().split()))\n",
    "    result = average(arr)\n",
    "    print(result)"
   ]
  },
  {
   "cell_type": "markdown",
   "metadata": {},
   "source": [
    "#No Idea"
   ]
  },
  {
   "cell_type": "code",
   "execution_count": null,
   "metadata": {},
   "outputs": [],
   "source": [
    "if __name__ == '__main__':\n",
    "    # Read the first line of input\n",
    "    n, m = map(int, input().split())\n",
    "    \n",
    "    # Read the array elements\n",
    "    array = list(map(int, input().split()))\n",
    "    \n",
    "    # Read the elements of set A\n",
    "    A = set(map(int, input().split()))\n",
    "    \n",
    "    # Read the elements of set B\n",
    "    B = set(map(int, input().split()))\n",
    "    \n",
    "    # Initialize happiness\n",
    "    happiness = 0\n",
    "    \n",
    "    # Calculate happiness\n",
    "    for element in array:\n",
    "        if element in A:\n",
    "            happiness += 1\n",
    "        elif element in B:\n",
    "            happiness -= 1\n",
    "    \n",
    "    # Print the final happiness\n",
    "    print(happiness)\n"
   ]
  },
  {
   "cell_type": "markdown",
   "metadata": {},
   "source": [
    "#symmetric difference"
   ]
  },
  {
   "cell_type": "code",
   "execution_count": null,
   "metadata": {},
   "outputs": [],
   "source": [
    "if __name__ == '__main__':\n",
    "    # Read the size of the first set\n",
    "    m = int(input())\n",
    "    # Read the elements of the first set\n",
    "    set_a = set(map(int, input().split()))\n",
    "    \n",
    "    # Read the size of the second set\n",
    "    n = int(input())\n",
    "    # Read the elements of the second set\n",
    "    set_b = set(map(int, input().split()))\n",
    "    \n",
    "    # Calculate the symmetric difference\n",
    "    symmetric_diff = set_a.symmetric_difference(set_b)\n",
    "    \n",
    "    # Print the symmetric difference in ascending order\n",
    "    for element in sorted(symmetric_diff):\n",
    "        print(element)\n"
   ]
  },
  {
   "cell_type": "markdown",
   "metadata": {},
   "source": [
    "#set.add()"
   ]
  },
  {
   "cell_type": "code",
   "execution_count": null,
   "metadata": {},
   "outputs": [],
   "source": [
    "if __name__ == '__main__':\n",
    "    n = int(input())\n",
    "    country_stamps = set()\n",
    "    \n",
    "    for _ in range(n):\n",
    "        country = input().strip()\n",
    "        country_stamps.add(country)\n",
    "    \n",
    "    print(len(country_stamps))\n"
   ]
  },
  {
   "cell_type": "markdown",
   "metadata": {},
   "source": [
    "#set-discard-remove-pop"
   ]
  },
  {
   "cell_type": "code",
   "execution_count": null,
   "metadata": {},
   "outputs": [],
   "source": [
    "n = int(input())\n",
    "s = set(map(int, input().split()))\n",
    "N = int(input())\n",
    "for i in range(N):\n",
    "    command = input().split()\n",
    "    if command[0] == \"pop\":\n",
    "        s.pop()\n",
    "    elif command[0] == \"remove\":\n",
    "        s.remove(int(command[1]))\n",
    "    else:\n",
    "        s.discard(int(command[1]))\n",
    "print(sum(s))\n"
   ]
  },
  {
   "cell_type": "markdown",
   "metadata": {},
   "source": [
    "#set.union() operation"
   ]
  },
  {
   "cell_type": "code",
   "execution_count": null,
   "metadata": {},
   "outputs": [],
   "source": [
    "# Enter your code here. Read input from STDIN. Print output to STDOUT\n",
    "n_eng = int(input())\n",
    "eng_set = set(map(int, input().split()))\n",
    "n_fre = int(input())\n",
    "fre_set = set(map(int, input().split()))\n",
    "\n",
    "print(len(eng_set.union(fre_set)))"
   ]
  },
  {
   "cell_type": "markdown",
   "metadata": {},
   "source": [
    "#set.intersection() operation"
   ]
  },
  {
   "cell_type": "code",
   "execution_count": null,
   "metadata": {},
   "outputs": [],
   "source": [
    "# Input the number of students subscribed to English and French newspapers\n",
    "english_subscribers = int(input())\n",
    "english_roll_numbers = set(map(int, input().split()))\n",
    "french_subscribers = int(input())\n",
    "french_roll_numbers = set(map(int, input().split()))\n",
    "\n",
    "# Find the intersection of the two sets\n",
    "both_subscriptions = english_roll_numbers.intersection(french_roll_numbers)\n",
    "\n",
    "# Print the number of students with both subscriptions\n",
    "print(len(both_subscriptions))"
   ]
  },
  {
   "cell_type": "markdown",
   "metadata": {},
   "source": [
    "#set.difference()"
   ]
  },
  {
   "cell_type": "code",
   "execution_count": null,
   "metadata": {},
   "outputs": [],
   "source": [
    "# Get the number of students subscribed to English and French newspapers\n",
    "n_english = int(input())\n",
    "english_subscribers = set(map(int, input().split()))\n",
    "n_french = int(input())\n",
    "french_subscribers = set(map(int, input().split()))\n",
    "\n",
    "# Find the students subscribed to only English newspaper\n",
    "english_only = english_subscribers - french_subscribers\n",
    "\n",
    "# Print the number of students subscribed to only English newspaper\n",
    "print(len(english_only))"
   ]
  },
  {
   "cell_type": "markdown",
   "metadata": {},
   "source": [
    "#symmetric Difference"
   ]
  },
  {
   "cell_type": "code",
   "execution_count": null,
   "metadata": {},
   "outputs": [],
   "source": [
    "n_english = int(input())\n",
    "english_subscribers = set(map(int, input().split()))\n",
    "n_french = int(input())\n",
    "french_subscribers = set(map(int, input().split()))\n",
    "\n",
    "# Find the students who subscribe to either English or French, but not both\n",
    "total_subscribers = english_subscribers.symmetric_difference(french_subscribers)\n",
    "\n",
    "# Print the total number of students\n",
    "print(len(total_subscribers))"
   ]
  },
  {
   "cell_type": "markdown",
   "metadata": {},
   "source": [
    "#mutations"
   ]
  },
  {
   "cell_type": "code",
   "execution_count": null,
   "metadata": {},
   "outputs": [],
   "source": [
    "n = int(input())\n",
    "s = set(map(int, input().split()))\n",
    "for _ in range(int(input())):\n",
    "    command = input().split()\n",
    "    if command[0] == \"intersection_update\":\n",
    "        s.intersection_update(set(map(int, input().split())))\n",
    "    elif command[0] == \"update\":\n",
    "        s.update(set(map(int, input().split())))\n",
    "    elif command[0] == \"symmetric_difference_update\":\n",
    "        s.symmetric_difference_update(set(map(int, input().split())))\n",
    "    elif command[0] == \"difference_update\":\n",
    "        s.difference_update(set(map(int, input().split())))\n",
    "print(sum(s))"
   ]
  },
  {
   "cell_type": "markdown",
   "metadata": {},
   "source": [
    "#The Captains Room"
   ]
  },
  {
   "cell_type": "code",
   "execution_count": null,
   "metadata": {},
   "outputs": [],
   "source": [
    "from collections import Counter\n",
    "\n",
    "n = int(input())\n",
    "room_numbers = list(map(int, input().split()))\n",
    "\n",
    "counter = Counter(room_numbers)\n",
    "captain_room = [room for room in counter if counter[room] == 1][0]\n",
    "\n",
    "print(captain_room)"
   ]
  },
  {
   "cell_type": "markdown",
   "metadata": {},
   "source": [
    "#check Subset"
   ]
  },
  {
   "cell_type": "code",
   "execution_count": null,
   "metadata": {},
   "outputs": [],
   "source": [
    "for test_case in range(int(input().strip())):\n",
    "    set_A_size = int(input().strip())\n",
    "    set_A = set(map(int, input().strip().split()))\n",
    "    set_B_size = int(input().strip())\n",
    "    set_B = set(map(int, input().strip().split()))\n",
    "    print(set_A.issubset(set_B))"
   ]
  },
  {
   "cell_type": "markdown",
   "metadata": {},
   "source": [
    "#superset"
   ]
  },
  {
   "cell_type": "code",
   "execution_count": null,
   "metadata": {},
   "outputs": [],
   "source": [
    "# Read the elements of set A\n",
    "set_a_elements = input().split()\n",
    "set_a = set(map(int, set_a_elements))\n",
    "\n",
    "# Read the number of sets\n",
    "n = int(input())\n",
    "\n",
    "# Initialize a flag to track if A is a strict superset\n",
    "flag = True\n",
    "\n",
    "# Loop through the other sets\n",
    "for _ in range(n):\n",
    "    # Read the elements of the current set\n",
    "    set_b_elements = input().split()\n",
    "    set_b = set(map(int, set_b_elements))\n",
    "    \n",
    "    # If B is not a subset of A or they are the same, A is not a strict superset\n",
    "    if not set_b.issubset(set_a) or set_a == set_b:\n",
    "        flag = False\n",
    "        break\n",
    "\n",
    "# Print the result\n",
    "print(flag)"
   ]
  }
 ],
 "metadata": {
  "kernelspec": {
   "display_name": "Python 3",
   "language": "python",
   "name": "python3"
  },
  "language_info": {
   "codemirror_mode": {
    "name": "ipython",
    "version": 3
   },
   "file_extension": ".py",
   "mimetype": "text/x-python",
   "name": "python",
   "nbconvert_exporter": "python",
   "pygments_lexer": "ipython3",
   "version": "3.12.2"
  }
 },
 "nbformat": 4,
 "nbformat_minor": 2
}
